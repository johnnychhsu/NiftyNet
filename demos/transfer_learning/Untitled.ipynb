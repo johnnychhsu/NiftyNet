{
 "cells": [
  {
   "cell_type": "markdown",
   "metadata": {},
   "source": [
    "### Transfer Learning\n",
    "In this notebook, we will show you how to do transfer learning step by step.\n",
    "We are going to use Anisotropic Nets Brats Challenge pre-trained model as our example.\n",
    "\n",
    "To fine-tune your model on your dataset, first create a model directory and\n",
    "specify its location through the `model_dir` parameter in your config file.\n",
    "Inside your `model_dir` directory create a folder named `models` and place the\n",
    "three checkpoint files which constitue your model inside. Your directory\n",
    "structure should look like this:\n",
    "```\n",
    "model_dir/  \n",
    "  models/  \n",
    "    model.ckpt-###.data-00000-of-00001  \n",
    "    model.ckpt-###.index  \n",
    "    model.ckpt-###.meta\n",
    "```"
   ]
  },
  {
   "cell_type": "code",
   "execution_count": null,
   "metadata": {},
   "outputs": [],
   "source": []
  }
 ],
 "metadata": {
  "kernelspec": {
   "display_name": "Python 3",
   "language": "python",
   "name": "python3"
  },
  "language_info": {
   "codemirror_mode": {
    "name": "ipython",
    "version": 3
   },
   "file_extension": ".py",
   "mimetype": "text/x-python",
   "name": "python",
   "nbconvert_exporter": "python",
   "pygments_lexer": "ipython3",
   "version": "3.5.2"
  }
 },
 "nbformat": 4,
 "nbformat_minor": 2
}
